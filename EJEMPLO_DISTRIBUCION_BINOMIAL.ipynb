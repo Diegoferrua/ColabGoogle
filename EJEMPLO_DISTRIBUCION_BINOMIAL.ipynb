{
  "nbformat": 4,
  "nbformat_minor": 0,
  "metadata": {
    "colab": {
      "provenance": [],
      "include_colab_link": true
    },
    "kernelspec": {
      "name": "python3",
      "display_name": "Python 3"
    },
    "language_info": {
      "name": "python"
    }
  },
  "cells": [
    {
      "cell_type": "markdown",
      "metadata": {
        "id": "view-in-github",
        "colab_type": "text"
      },
      "source": [
        "<a href=\"https://colab.research.google.com/github/Diegoferrua/ColabGoogle/blob/main/EJEMPLO_DISTRIBUCION_BINOMIAL.ipynb\" target=\"_parent\"><img src=\"https://colab.research.google.com/assets/colab-badge.svg\" alt=\"Open In Colab\"/></a>"
      ]
    },
    {
      "cell_type": "markdown",
      "source": [
        "# Distribución Binomial"
      ],
      "metadata": {
        "id": "VnQSZl-EFLM3"
      }
    },
    {
      "cell_type": "code",
      "source": [
        "#IMPORTACION DE LIBRERIA\n",
        "import numpy as np\n",
        "import matplotlib.pyplot as plt"
      ],
      "metadata": {
        "id": "GgUDXENwFPgK"
      },
      "execution_count": 2,
      "outputs": []
    },
    {
      "cell_type": "code",
      "source": [
        "#IMAGINEMOS UNA MONEDA\n",
        "np.random.binomial(1, 0.5)"
      ],
      "metadata": {
        "colab": {
          "base_uri": "https://localhost:8080/"
        },
        "id": "GAXkD7cKKqPX",
        "outputId": "3b3d0569-38a1-4f09-94c3-80545998b231"
      },
      "execution_count": 50,
      "outputs": [
        {
          "output_type": "execute_result",
          "data": {
            "text/plain": [
              "1"
            ]
          },
          "metadata": {},
          "execution_count": 50
        }
      ]
    },
    {
      "cell_type": "code",
      "source": [
        "#EJEMPLO DE UN TEST DE 3 PREGUNTAS\n",
        "np.random.binomial(3, 0.5, size=5)"
      ],
      "metadata": {
        "id": "bWEMSmODHh0u",
        "outputId": "bc9b6082-e0d0-42d4-85fb-756b22688220",
        "colab": {
          "base_uri": "https://localhost:8080/"
        }
      },
      "execution_count": 7,
      "outputs": [
        {
          "output_type": "execute_result",
          "data": {
            "text/plain": [
              "array([2, 2, 1, 0, 3])"
            ]
          },
          "metadata": {},
          "execution_count": 7
        }
      ]
    },
    {
      "cell_type": "code",
      "source": [
        "res = np.random.binomial(3, 0.5, size= 500000)\n",
        "print(f\"Notas trimestre: {res}\")"
      ],
      "metadata": {
        "id": "IP8k2F15KqB0",
        "outputId": "ef266620-627b-4ef1-f883-c21df140de42",
        "colab": {
          "base_uri": "https://localhost:8080/"
        }
      },
      "execution_count": 9,
      "outputs": [
        {
          "output_type": "stream",
          "name": "stdout",
          "text": [
            "Notas trimestre: [2 2 1 ... 0 2 2]\n"
          ]
        }
      ]
    },
    {
      "cell_type": "code",
      "source": [
        "cuenta_exam = 0\n",
        "for nota in res:\n",
        "  if nota == 2:\n",
        "    cuenta_exam += 1\n",
        "print(f\"Examenes con dos respuestas correctas: {cuenta_exam}\")"
      ],
      "metadata": {
        "colab": {
          "base_uri": "https://localhost:8080/"
        },
        "id": "UET19gtwL9Ai",
        "outputId": "2871ce31-0722-43c6-e21c-cc41b57705f7"
      },
      "execution_count": 6,
      "outputs": [
        {
          "output_type": "stream",
          "name": "stdout",
          "text": [
            "Examenes con dos respuestas correctas: 187445\n"
          ]
        }
      ]
    },
    {
      "cell_type": "code",
      "source": [
        "cuenta_exam/len(res)"
      ],
      "metadata": {
        "colab": {
          "base_uri": "https://localhost:8080/"
        },
        "id": "O0qtGz3UMZql",
        "outputId": "efbd063b-696c-4268-f7ea-965c6214f458"
      },
      "execution_count": 10,
      "outputs": [
        {
          "output_type": "execute_result",
          "data": {
            "text/plain": [
              "0.37489"
            ]
          },
          "metadata": {},
          "execution_count": 10
        }
      ]
    },
    {
      "cell_type": "code",
      "source": [
        "0.375"
      ],
      "metadata": {
        "colab": {
          "base_uri": "https://localhost:8080/"
        },
        "id": "fo3GpdhPMZWR",
        "outputId": "7273578e-de91-4d98-ba60-fc30738c0088"
      },
      "execution_count": null,
      "outputs": [
        {
          "output_type": "execute_result",
          "data": {
            "text/plain": [
              "0.375"
            ]
          },
          "metadata": {},
          "execution_count": 28
        }
      ]
    },
    {
      "cell_type": "code",
      "source": [
        "plt.hist(res)"
      ],
      "metadata": {
        "colab": {
          "base_uri": "https://localhost:8080/",
          "height": 503
        },
        "id": "2J_UGqyPM3mg",
        "outputId": "75cbd4ad-8781-4ea2-f0b3-cc8170eb69e4"
      },
      "execution_count": 11,
      "outputs": [
        {
          "output_type": "execute_result",
          "data": {
            "text/plain": [
              "(array([ 62770.,      0.,      0., 186739.,      0.,      0., 187941.,\n",
              "             0.,      0.,  62550.]),\n",
              " array([0. , 0.3, 0.6, 0.9, 1.2, 1.5, 1.8, 2.1, 2.4, 2.7, 3. ]),\n",
              " <BarContainer object of 10 artists>)"
            ]
          },
          "metadata": {},
          "execution_count": 11
        },
        {
          "output_type": "display_data",
          "data": {
            "text/plain": [
              "<Figure size 640x480 with 1 Axes>"
            ],
            "image/png": "[encoded data removed]"
          },
          "metadata": {}
        }
      ]
    },
    {
      "cell_type": "code",
      "source": [
        "res = np.random.binomial(100, 0.5, size=1000)\n",
        "# print(res)"
      ],
      "metadata": {
        "id": "Z5bTqg7FM_xw"
      },
      "execution_count": 12,
      "outputs": []
    },
    {
      "cell_type": "code",
      "source": [
        "res = np.random.binomial(100, 0.5, size=2000)\n",
        "plt.hist(res, bins=20);"
      ],
      "metadata": {
        "colab": {
          "base_uri": "https://localhost:8080/",
          "height": 430
        },
        "id": "9j61uGGXM_j3",
        "outputId": "c45bd231-8bc0-47ca-87a3-c344b7ae6433"
      },
      "execution_count": 16,
      "outputs": [
        {
          "output_type": "display_data",
          "data": {
            "text/plain": [
              "<Figure size 640x480 with 1 Axes>"
            ],
            "image/png": "[encoded data removed]"
          },
          "metadata": {}
        }
      ]
    },
    {
      "cell_type": "markdown",
      "source": [
        "## Transacciones Fraudulentas"
      ],
      "metadata": {
        "id": "xvbeWF1S4dnp"
      }
    },
    {
      "cell_type": "markdown",
      "source": [
        "### Enunciado"
      ],
      "metadata": {
        "id": "SlPT5zSGLzvZ"
      }
    },
    {
      "cell_type": "markdown",
      "source": [
        "Trabajamos en un gran banco que opera a nivel mundial. El equipo financiero nos contacta por una decisión que van a tomar respecto a un nuevo software y piensan que desde el departamento de análisis de datos les podemos ayudar.\n",
        "<br><br>\n",
        "\n",
        "Este equipo se ocupa de las transacciones fraudulentas. Al día reciben **10’100 transacciones** y debido al gran número no pueden analizarlas todas manualmente. Por lo tanto, se apoyan en un software que es capaz de identificar 100 transacciones fraudulentas al día. <br>\n",
        "Aunque el software es muy eficaz no es capaz de identificarlas todas y se estima que el **4%** de las transacciones restantes son fraudulentas.\n",
        "<br>Si una transacción es fraudulenta y no ha sido identificada como tal, el coste está cubierto por el banco para que no repercuta en sus clientes. Esto quiere decir que por cada transacción fraudulenta que no es identificada el banco tiene un **coste de 30€**, es el valor promedio de las transacciones fraudulentas.\n",
        "\n",
        "<br><br>\n",
        "Primero queremos estimar el coste que repercute en el banco por las transacciones fraudulentas con el software actual.\n"
      ],
      "metadata": {
        "id": "YGjEp3jt7zDK"
      }
    },
    {
      "cell_type": "markdown",
      "source": [
        "1. ¿Qué herramienta podemos utilizar para calcular el coste de las transacciones fraudulentas?"
      ],
      "metadata": {
        "id": "KBINb3Yz4i-x"
      }
    },
    {
      "cell_type": "code",
      "source": [
        "#@markdown Selecciona tu respuesta y ejecuta la celda\n",
        "respuesta = 'Distribuci\\xF3n binomial' #@param [\"Distribución binomial\", \"Teorema de Bayes\", \"Ensayo de Bernoulli\", \"Probabilidad condicionada\"] {allow-input: true}\n",
        "\n",
        "# correcion de la respuesta\n",
        "def solucion(opcion):\n",
        "  if opcion == 'Distribución binomial':\n",
        "    print('¡Respuesta correcta! ')\n",
        "  elif opcion == 'Ensayo de Bernoulli':\n",
        "    print('Respuesta incorrecta')\n",
        "  elif opcion == 'Teorema de Bayes':\n",
        "    print('Respuesta incorrecta')\n",
        "  elif opcion == 'Probabilidad condicionada':\n",
        "    print('Respuesta incorrecta')\n",
        "  else:\n",
        "    print('Selecciona una de las respuestas del desplegable')\n",
        "\n",
        "solucion(respuesta)\n",
        "print(f\"\\n \\n Si deseas comprobar otra solución es necesario que ejecutes de nuevo la celda\")"
      ],
      "metadata": {
        "cellView": "form",
        "id": "DPwp-MyMBeop",
        "outputId": "083687e8-e9ef-48be-bcd2-39617d1141ac",
        "colab": {
          "base_uri": "https://localhost:8080/"
        }
      },
      "execution_count": 22,
      "outputs": [
        {
          "output_type": "stream",
          "name": "stdout",
          "text": [
            "¡Respuesta correcta! \n",
            "\n",
            " \n",
            " Si deseas comprobar otra solución es necesario que ejecutes de nuevo la celda\n"
          ]
        }
      ]
    },
    {
      "cell_type": "markdown",
      "source": [
        "2. Una variable X ~ B (n, p) donde *n* es:"
      ],
      "metadata": {
        "id": "dyECP-eRCCTZ"
      }
    },
    {
      "cell_type": "code",
      "source": [
        "#@markdown Selecciona tu respuesta y ejecuta la celda\n",
        "respuesta = 'n\\xFAmero de ensayos' #@param [\"número de fracasos\", \"número de resultados posibles (un dado tiene 6)\", \"número de éxitos\", \"número de ensayos\"] {allow-input: true}\n",
        "\n",
        "# correcion de la respuesta\n",
        "def solucion(opcion):\n",
        "  if opcion == 'número de ensayos':\n",
        "    print('¡Respuesta correcta! ')\n",
        "  elif opcion == 'número de fracasos':\n",
        "    print('Respuesta incorrecta')\n",
        "  elif opcion == 'número de resultados posibles (un dado tiene 6)':\n",
        "    print('Respuesta incorrecta')\n",
        "  elif opcion == 'número de éxitos':\n",
        "    print('Respuesta incorrecta')\n",
        "  else:\n",
        "    print('Selecciona una de las respuestas del desplegable')\n",
        "\n",
        "solucion(respuesta)\n",
        "print(f\"\\n \\n Si deseas comprobar otra solución es necesario que ejecutes de nuevo la celda\")"
      ],
      "metadata": {
        "id": "5O7hR0zSCCmL",
        "cellView": "form",
        "outputId": "63389bf1-537d-4c85-b8af-977fa9ca2a4d",
        "colab": {
          "base_uri": "https://localhost:8080/"
        }
      },
      "execution_count": 18,
      "outputs": [
        {
          "output_type": "stream",
          "name": "stdout",
          "text": [
            "¡Respuesta correcta! \n",
            "\n",
            " \n",
            " Si deseas comprobar otra solución es necesario que ejecutes de nuevo la celda\n"
          ]
        }
      ]
    },
    {
      "cell_type": "markdown",
      "source": [
        "3. y *p* es:"
      ],
      "metadata": {
        "id": "jmnBzFeiDgLm"
      }
    },
    {
      "cell_type": "code",
      "source": [
        "#@markdown  Selecciona tu respuesta y ejecuta la celda\n",
        "respuesta = 'probabilidad de \\xE9xito' #@param [\"probabilidad de éxito y fracaso\", \"probabilidad de éxito\", \"probabilidad de fracaso\"] {allow-input: true}\n",
        "\n",
        "# correcion de la respuesta\n",
        "def solucion(opcion):\n",
        "  if opcion == 'probabilidad de éxito':\n",
        "    print('¡Respuesta correcta! ')\n",
        "  elif opcion == 'probabilidad de éxito y fracaso':\n",
        "    print('Respuesta incorrecta')\n",
        "  elif opcion == 'probabilidad de fracaso':\n",
        "    print('Respuesta incorrecta')\n",
        "  else:\n",
        "    print('Selecciona una de las respuestas del desplegable')\n",
        "\n",
        "solucion(respuesta)\n",
        "print(f\"\\n \\n Si deseas comprobar otra solución es necesario que ejecutes de nuevo la celda\")"
      ],
      "metadata": {
        "id": "8iF7uc8IDgCo",
        "cellView": "form",
        "outputId": "5db0fdf6-5347-4ff7-f4a9-59847cb70ae2",
        "colab": {
          "base_uri": "https://localhost:8080/"
        }
      },
      "execution_count": 24,
      "outputs": [
        {
          "output_type": "stream",
          "name": "stdout",
          "text": [
            "¡Respuesta correcta! \n",
            "\n",
            " \n",
            " Si deseas comprobar otra solución es necesario que ejecutes de nuevo la celda\n"
          ]
        }
      ]
    },
    {
      "cell_type": "markdown",
      "source": [
        "4. Representa el problema utilizando Python y estima el coste de las transacciones fraudulentas con el software actual."
      ],
      "metadata": {
        "id": "CRGtX1VWE3a2"
      }
    },
    {
      "cell_type": "code",
      "execution_count": 25,
      "metadata": {
        "id": "ne4uv7nzd4ha"
      },
      "outputs": [],
      "source": [
        "import numpy as np\n",
        "import matplotlib.pyplot as plt"
      ]
    },
    {
      "cell_type": "code",
      "source": [
        "# distribución binomial\n",
        "np.random.binomial(10000, 0.04)"
      ],
      "metadata": {
        "id": "ZETa7J3bFHMj",
        "outputId": "3aaa70c6-ed1b-4809-f53e-b118cecfaf4b",
        "colab": {
          "base_uri": "https://localhost:8080/"
        }
      },
      "execution_count": 27,
      "outputs": [
        {
          "output_type": "execute_result",
          "data": {
            "text/plain": [
              "456"
            ]
          },
          "metadata": {},
          "execution_count": 27
        }
      ]
    },
    {
      "cell_type": "code",
      "source": [
        "# distribución binomial todo el año\n",
        "transacciones_fradulentas= np.random.binomial(10000, 0.04, size=365)"
      ],
      "metadata": {
        "id": "iAM4zVRpFol0"
      },
      "execution_count": 30,
      "outputs": []
    },
    {
      "cell_type": "code",
      "source": [
        "Total_trasacciones_anual= sum(transacciones_fradulentas);\n",
        "print(f\"Total de las transacciones fraudulentas del año fue: \", Total_trasacciones_anual)"
      ],
      "metadata": {
        "id": "a-G5qycER3O-",
        "outputId": "04d2e6d2-7859-4494-9ded-9b986efa7747",
        "colab": {
          "base_uri": "https://localhost:8080/"
        }
      },
      "execution_count": 40,
      "outputs": [
        {
          "output_type": "stream",
          "name": "stdout",
          "text": [
            "Total de las transacciones fraudulentas del año fue:  145530\n"
          ]
        }
      ]
    },
    {
      "cell_type": "code",
      "source": [
        "# calcular el coste de las transacciones fraudulentas\n",
        "Coste_transaciones_fraudulentas= Total_trasacciones_anual*30\n",
        "print(f\"Total de perdidas por transaciones anualmentes es de $\",Coste_transaciones_fraudulentas)"
      ],
      "metadata": {
        "id": "PyfJkcSVXr6W",
        "outputId": "0d723823-caf6-4e04-b5a6-01da80ae878f",
        "colab": {
          "base_uri": "https://localhost:8080/"
        }
      },
      "execution_count": 41,
      "outputs": [
        {
          "output_type": "stream",
          "name": "stdout",
          "text": [
            "Total de perdidas por transaciones anualmentes es de $ 4365900\n"
          ]
        }
      ]
    },
    {
      "cell_type": "markdown",
      "source": [
        "### Ejercicio"
      ],
      "metadata": {
        "id": "9jRRdUYcL4DJ"
      }
    },
    {
      "cell_type": "markdown",
      "source": [
        "Una empresa especializada en inteligencia artificial ha contactado al equipo financiero y les ha demostrado que pueden mejorar la identificación de las transacciones fraudulentas. Esto les permitiría reducir **del 4% al 2%** el número de transacciones no identificadas. El equipo financiero estaba encantado hasta que el proveedor les ha indicado que este software tendría un **coste de 500’000 € anuales.**\n",
        "\n",
        "<br>\n",
        "\n",
        "Su intuición les dice que cambiar y utilizar el software nuevo es la decisión correcta, pero prefieren basarse en un método numérico para tomar la decisión. Es por este motivo que nos han contactado, les gustaría saber si los números apoyan su intuición y por lo tanto cambiar de software es la decisión correcta.\n"
      ],
      "metadata": {
        "id": "hta7EZ4p4iP3"
      }
    },
    {
      "cell_type": "markdown",
      "source": [
        "1. Si seguimos representando la identificación de transacciones fraudulentas como una distribución binomial, ¿qué parámetro cambia con el software nuevo?\n"
      ],
      "metadata": {
        "id": "DqjNLRbwMM1A"
      }
    },
    {
      "cell_type": "code",
      "source": [
        "#@markdown Selecciona tu respuesta y ejecuta la celda\n",
        "respuesta = 'p' #@param [\"n\", \"p\", \"el tipo de distribución\"] {allow-input: true}\n",
        "\n",
        "# correcion de la respuesta\n",
        "def solucion(opcion):\n",
        "  if opcion == 'p':\n",
        "    print('¡Respuesta correcta! ')\n",
        "  elif opcion == 'n':\n",
        "    print('Respuesta incorrecta')\n",
        "  elif opcion == 'el tipo de distribución':\n",
        "    print('Respuesta incorrecta')\n",
        "  else:\n",
        "    print('Selecciona una de las respuestas del desplegable')\n",
        "\n",
        "solucion(respuesta)\n",
        "print(f\"\\n \\n Si deseas comprobar otra solución es necesario que ejecutes de nuevo la celda\")"
      ],
      "metadata": {
        "id": "XDsO34chMNhZ",
        "cellView": "form",
        "outputId": "9be3337d-fd99-4887-e2a1-10784a16603c",
        "colab": {
          "base_uri": "https://localhost:8080/"
        }
      },
      "execution_count": 42,
      "outputs": [
        {
          "output_type": "stream",
          "name": "stdout",
          "text": [
            "¡Respuesta correcta! \n",
            "\n",
            " \n",
            " Si deseas comprobar otra solución es necesario que ejecutes de nuevo la celda\n"
          ]
        }
      ]
    },
    {
      "cell_type": "markdown",
      "source": [
        "2. ¿Cuál es el nuevo valor de p?"
      ],
      "metadata": {
        "id": "am2qAZaKOBTq"
      }
    },
    {
      "cell_type": "code",
      "source": [
        "#@markdown Selecciona tu respuesta y ejecuta la celda\n",
        "respuesta = '0.02' #@param [\"0.03\", \"0.04\", \"0.02\", \"0.035\"] {allow-input: true}\n",
        "\n",
        "# correcion de la respuesta\n",
        "def solucion(opcion):\n",
        "  if opcion == '0.02':\n",
        "    print('¡Respuesta correcta! ')\n",
        "  elif opcion == '0.04':\n",
        "    print('Respuesta incorrecta')\n",
        "  elif opcion == '0.03':\n",
        "    print('Respuesta incorrecta')\n",
        "  elif opcion == '0.035':\n",
        "    print('Respuesta incorrecta')\n",
        "  else:\n",
        "    print('Selecciona una de las respuestas del desplegable')\n",
        "\n",
        "solucion(respuesta)\n",
        "print(f\"\\n \\n Si deseas comprobar otra solución es necesario que ejecutes de nuevo la celda\")"
      ],
      "metadata": {
        "cellView": "form",
        "id": "dZ_OE--fOGzp",
        "outputId": "1cd7637d-c184-46fa-b543-5436aefc0868",
        "colab": {
          "base_uri": "https://localhost:8080/"
        }
      },
      "execution_count": 43,
      "outputs": [
        {
          "output_type": "stream",
          "name": "stdout",
          "text": [
            "¡Respuesta correcta! \n",
            "\n",
            " \n",
            " Si deseas comprobar otra solución es necesario que ejecutes de nuevo la celda\n"
          ]
        }
      ]
    },
    {
      "cell_type": "markdown",
      "source": [
        "3. Representar el problema utilizando Python y estimar el coste de las transacciones fraudulentas con el software nuevo."
      ],
      "metadata": {
        "id": "gFzYNTUMPuje"
      }
    },
    {
      "cell_type": "code",
      "source": [
        "# distribución binomial todo el año\n",
        "transacciones_fradulentas_new= np.random.binomial(10000, 0.02, size=365)\n",
        "Total_trasacciones_anual_new= sum(transacciones_fradulentas_new);\n",
        "print(f\"Total de las transacciones fraudulentas del año fue: \", Total_trasacciones_anual_new)\n",
        "Coste_transaciones_fraudulentas_new= Total_trasacciones_anual_new*30\n",
        "print(f\"Total de perdidas por transaciones anualmentes es de $\",Coste_transaciones_fraudulentas_new)"
      ],
      "metadata": {
        "id": "vsCcWIdMb0an",
        "outputId": "73fd26f6-587f-4062-dbd0-6c284140a474",
        "colab": {
          "base_uri": "https://localhost:8080/"
        }
      },
      "execution_count": 44,
      "outputs": [
        {
          "output_type": "stream",
          "name": "stdout",
          "text": [
            "Total de las transacciones fraudulentas del año fue:  73092\n",
            "Total de perdidas por transaciones anualmentes es de $ 2192760\n"
          ]
        }
      ]
    },
    {
      "cell_type": "markdown",
      "source": [
        "4. ¿Reduce costes utilizar el software nuevo?"
      ],
      "metadata": {
        "id": "TrY8uCwaNDYR"
      }
    },
    {
      "cell_type": "code",
      "source": [
        "#@markdown Selecciona tu respuesta y ejecuta la celda\n",
        "respuesta = 'S\\xED' #@param [\"Sí\", \"No\"] {allow-input: true}\n",
        "\n",
        "# correcion de la respuesta\n",
        "def solucion(opcion):\n",
        "  if opcion == 'Sí':\n",
        "    print('¡Respuesta correcta! ')\n",
        "  elif opcion == 'No':\n",
        "    print('Respuesta incorrecta')\n",
        "  else:\n",
        "    print('Selecciona una de las respuestas del desplegable')\n",
        "\n",
        "solucion(respuesta)\n",
        "print(f\"\\n \\n Si deseas comprobar otra solución es necesario que ejecutes de nuevo la celda\")"
      ],
      "metadata": {
        "id": "B4jrPu09P8N0",
        "outputId": "49c852ff-6f6e-4deb-c62b-3b48ba260f17",
        "colab": {
          "base_uri": "https://localhost:8080/"
        }
      },
      "execution_count": 46,
      "outputs": [
        {
          "output_type": "stream",
          "name": "stdout",
          "text": [
            "¡Respuesta correcta! \n",
            "\n",
            " \n",
            " Si deseas comprobar otra solución es necesario que ejecutes de nuevo la celda\n"
          ]
        }
      ]
    }
  ]
}