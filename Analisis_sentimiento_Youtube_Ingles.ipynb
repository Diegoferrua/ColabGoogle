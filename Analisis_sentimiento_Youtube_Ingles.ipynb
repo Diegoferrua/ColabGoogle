{
  "nbformat": 4,
  "nbformat_minor": 0,
  "metadata": {
    "colab": {
      "provenance": [],
      "include_colab_link": true
    },
    "kernelspec": {
      "name": "python3",
      "display_name": "Python 3"
    },
    "language_info": {
      "name": "python"
    }
  },
  "cells": [
    {
      "cell_type": "markdown",
      "metadata": {
        "id": "view-in-github",
        "colab_type": "text"
      },
      "source": [
        "<a href=\"https://colab.research.google.com/github/Diegoferrua/ColabGoogle/blob/main/Analisis_sentimiento_Youtube_Ingles.ipynb\" target=\"_parent\"><img src=\"https://colab.research.google.com/assets/colab-badge.svg\" alt=\"Open In Colab\"/></a>"
      ]
    },
    {
      "cell_type": "code",
      "source": [
        "!pip install --upgrade google-api-python-client\n",
        "import nltk\n",
        "nltk.download('popular')\n",
        "nltk.download('vader_lexicon')\n",
        "from googleapiclient.discovery import build\n",
        "from nltk.sentiment.vader import SentimentIntensityAnalyzer\n",
        "import re\n",
        "from nltk.tokenize import word_tokenize\n",
        "from nltk.corpus import stopwords\n",
        "from nltk.stem import WordNetLemmatizer\n",
        "import pandas as pd\n",
        "import matplotlib.pyplot as plt"
      ],
      "metadata": {
        "id": "rjihvA-PWH-B"
      },
      "execution_count": null,
      "outputs": []
    },
    {
      "cell_type": "code",
      "source": [
        "# Configuración de YouTube API\n",
        "youtube = build(\"youtube\", \"v3\", developerKey=\"Escribe_aquí_tu_key\")"
      ],
      "metadata": {
        "id": "Kz13It3_WP_3"
      },
      "execution_count": null,
      "outputs": []
    },
    {
      "cell_type": "code",
      "source": [
        "# Obtener comentarios de YouTube\n",
        "comments = []\n",
        "page_token = None\n",
        "while True:\n",
        "    request = youtube.commentThreads().list(\n",
        "        part=\"snippet\",\n",
        "        videoId=\"fUEjCXpOjPY\",\n",
        "        maxResults=100,\n",
        "        pageToken=page_token\n",
        "    )\n",
        "    response = request.execute()\n",
        "    comments.extend([item['snippet']['topLevelComment']['snippet']['textOriginal'] for item in response['items']])\n",
        "    page_token = response.get('nextPageToken')\n",
        "    if not page_token:\n",
        "        break"
      ],
      "metadata": {
        "id": "1NZiU4XZWaPc"
      },
      "execution_count": null,
      "outputs": []
    },
    {
      "cell_type": "code",
      "source": [
        "# Funciones de limpieza de texto\n",
        "def clean_text(text):\n",
        "    return re.sub(r'[^a-zA-Z\\s]', '', text)\n",
        "\n",
        "def to_lower(text):\n",
        "    return text.lower()\n",
        "\n",
        "def tokenize(text):\n",
        "    return word_tokenize(text)\n",
        "\n",
        "def remove_stopwords(text):\n",
        "    stop_words = set(stopwords.words('english'))\n",
        "    return [word for word in text if word not in stop_words]\n",
        "\n",
        "def lemmatize(text):\n",
        "    lemmatizer = WordNetLemmatizer()\n",
        "    return [lemmatizer.lemmatize(word) for word in text]\n",
        "\n",
        "def complete_clean(text):\n",
        "    text = clean_text(text)\n",
        "    text = to_lower(text)\n",
        "    text = tokenize(text)\n",
        "    text = remove_stopwords(text)\n",
        "    text = lemmatize(text)\n",
        "    return text\n",
        "\n"
      ],
      "metadata": {
        "id": "6RJERhH2WnJ6"
      },
      "execution_count": null,
      "outputs": []
    },
    {
      "cell_type": "code",
      "source": [
        "# Limpieza de comentarios\n",
        "clean_comments = [complete_clean(comment) for comment in comments]\n",
        "clean_comments = [' '.join(comment) if isinstance(comment, list) else comment for comment in clean_comments]"
      ],
      "metadata": {
        "id": "zUewD3gRXswm"
      },
      "execution_count": null,
      "outputs": []
    },
    {
      "cell_type": "code",
      "source": [
        "# Análisis de sentimiento\n",
        "sia = SentimentIntensityAnalyzer()\n",
        "sentiments = [sia.polarity_scores(comment) for comment in clean_comments]\n"
      ],
      "metadata": {
        "id": "f_VW5v3gX3QY"
      },
      "execution_count": null,
      "outputs": []
    },
    {
      "cell_type": "code",
      "source": [
        "# Visualización\n",
        "df = pd.DataFrame(sentiments)\n",
        "print(df)"
      ],
      "metadata": {
        "colab": {
          "base_uri": "https://localhost:8080/"
        },
        "id": "rVDTS3tNYVh9",
        "outputId": "abd9027f-9a8c-40dd-b2f3-d9539afb0dfb"
      },
      "execution_count": null,
      "outputs": [
        {
          "output_type": "stream",
          "name": "stdout",
          "text": [
            "       neg    neu    pos  compound\n",
            "0    0.178  0.695  0.127   -0.6908\n",
            "1    0.186  0.691  0.123   -0.1650\n",
            "2    0.000  0.408  0.592    0.4404\n",
            "3    0.000  0.000  0.000    0.0000\n",
            "4    0.000  1.000  0.000    0.0000\n",
            "..     ...    ...    ...       ...\n",
            "843  0.000  0.220  0.780    0.7964\n",
            "844  0.000  0.000  1.000    0.4215\n",
            "845  0.000  0.000  1.000    0.4215\n",
            "846  0.000  0.388  0.612    0.7845\n",
            "847  0.000  1.000  0.000    0.0000\n",
            "\n",
            "[848 rows x 4 columns]\n"
          ]
        }
      ]
    },
    {
      "cell_type": "code",
      "source": [
        "# Distribución de los puntajes \"compound\"\n",
        "compound_scores = [item['compound'] for item in sentiments]\n",
        "plt.hist(compound_scores, bins=20, alpha=0.5)\n",
        "plt.title('Distribución de los puntajes \"compound\"')\n",
        "plt.xlabel('Puntaje \"Compound\"')\n",
        "plt.ylabel('Frecuencia')\n",
        "plt.show()"
      ],
      "metadata": {
        "colab": {
          "base_uri": "https://localhost:8080/",
          "height": 472
        },
        "id": "TvbmbK5SYhBy",
        "outputId": "266bd9c9-8c9a-469d-bc78-d31740f91e6b"
      },
      "execution_count": null,
      "outputs": [
        {
          "output_type": "display_data",
          "data": {
            "text/plain": [
              "<Figure size 640x480 with 1 Axes>"
            ],
            "image/png": "[encoded data removed]"
          },
          "metadata": {}
        }
      ]
    }
  ]
}